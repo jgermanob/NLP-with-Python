{
 "cells": [
  {
   "cell_type": "code",
   "execution_count": 1,
   "metadata": {},
   "outputs": [],
   "source": [
    "import pandas as pd\n",
    "import re\n",
    "from nltk.corpus import stopwords\n",
    "from sklearn.preprocessing import LabelBinarizer"
   ]
  },
  {
   "cell_type": "code",
   "execution_count": 2,
   "metadata": {},
   "outputs": [],
   "source": [
    "df = pd.read_csv('/home/German/Escritorio/NLP-with-Python/data/xample_bumeran2Utf8.csv', encoding='utf8')\n",
    "new_df = pd.DataFrame()\n",
    "new_df['texto'] = df['texto']\n",
    "new_df['area_trab'] = df['area_trab']\n",
    "df = new_df"
   ]
  },
  {
   "cell_type": "code",
   "execution_count": 3,
   "metadata": {},
   "outputs": [
    {
     "data": {
      "text/plain": [
       "Ventas               277197\n",
       "Call Center          152820\n",
       "Administración       124349\n",
       "Tecnología            87105\n",
       "Oficios               56931\n",
       "Logística             36993\n",
       "Recursos Humanos      35145\n",
       "Mercadotecnia         31519\n",
       "Finanzas              21984\n",
       "Salud                 21501\n",
       "Gastronomía           20995\n",
       "Secretaria            18121\n",
       "Producción            14884\n",
       "Ingeniería            14521\n",
       "Seguros               10957\n",
       "Legales               10004\n",
       "Diseño                 9897\n",
       "Construcción           8960\n",
       "Educación              8695\n",
       "Comunicación           6865\n",
       "Gerencia               6491\n",
       "Comercio Exterior      3387\n",
       "Minería                 635\n",
       "Name: area_trab, dtype: int64"
      ]
     },
     "execution_count": 3,
     "metadata": {},
     "output_type": "execute_result"
    }
   ],
   "source": [
    "df['area_trab'].value_counts()"
   ]
  },
  {
   "cell_type": "code",
   "execution_count": 4,
   "metadata": {},
   "outputs": [],
   "source": [
    "def normalize_text(text):\n",
    "    if isinstance(text,float):\n",
    "            text ='-'\n",
    "    else:\n",
    "        text = text.strip()\n",
    "    return text"
   ]
  },
  {
   "cell_type": "code",
   "execution_count": 5,
   "metadata": {},
   "outputs": [],
   "source": [
    "REPLACE_BY_SPACE_RE = re.compile('[/(){}\\[\\]\\|@,;]')\n",
    "BAD_SYMBOLS_RE = re.compile('[^0-9a-záéíóú #+_]')\n",
    "NUMBERS_RE = re.compile('\\\\b\\\\d+\\\\b')\n",
    "STOPWORDS = set(stopwords.words('spanish'))\n",
    "\n",
    "def clean_text(text):\n",
    "    \"\"\"\n",
    "        text: a string\n",
    "        \n",
    "        return: modified initial string\n",
    "    \"\"\"\n",
    "    #text = BeautifulSoup(text, \"lxml\").text # HTML decoding\n",
    "    text = text.lower() # lowercase text\n",
    "    text = REPLACE_BY_SPACE_RE.sub(' ', text) # replace REPLACE_BY_SPACE_RE symbols by space in text\n",
    "    text = BAD_SYMBOLS_RE.sub(' ', text) # delete symbols which are in BAD_SYMBOLS_RE from text\n",
    "    text = NUMBERS_RE.sub('', text)\n",
    "    text = ' '.join(word for word in text.split() if word not in STOPWORDS) # delete stopwors from text\n",
    "    return text.strip()"
   ]
  },
  {
   "cell_type": "code",
   "execution_count": 6,
   "metadata": {},
   "outputs": [],
   "source": [
    "df['texto'] = df['texto'].apply(normalize_text)"
   ]
  },
  {
   "cell_type": "code",
   "execution_count": 7,
   "metadata": {},
   "outputs": [],
   "source": [
    "df['texto'] = df['texto'].apply(clean_text)"
   ]
  },
  {
   "cell_type": "code",
   "execution_count": 8,
   "metadata": {},
   "outputs": [],
   "source": [
    "df.drop_duplicates(subset='texto', keep='first', inplace=True)\n",
    "df = df.reset_index(drop=True)"
   ]
  },
  {
   "cell_type": "code",
   "execution_count": 9,
   "metadata": {},
   "outputs": [
    {
     "data": {
      "text/plain": [
       "Ventas               12773\n",
       "Administración        8588\n",
       "Call Center           8245\n",
       "Tecnología            5516\n",
       "Oficios               3909\n",
       "Recursos Humanos      2335\n",
       "Logística             2174\n",
       "Mercadotecnia         1648\n",
       "Salud                 1594\n",
       "Gastronomía           1320\n",
       "Finanzas              1250\n",
       "Secretaria            1219\n",
       "Producción            1121\n",
       "Ingeniería             877\n",
       "Educación              699\n",
       "Diseño                 658\n",
       "Legales                638\n",
       "Construcción           617\n",
       "Seguros                569\n",
       "Comunicación           411\n",
       "Gerencia               269\n",
       "Comercio Exterior      224\n",
       "Minería                 41\n",
       "Name: area_trab, dtype: int64"
      ]
     },
     "execution_count": 9,
     "metadata": {},
     "output_type": "execute_result"
    }
   ],
   "source": [
    "df['area_trab'].value_counts()"
   ]
  },
  {
   "cell_type": "code",
   "execution_count": 13,
   "metadata": {},
   "outputs": [
    {
     "data": {
      "text/plain": [
       "LabelBinarizer(neg_label=0, pos_label=1, sparse_output=False)"
      ]
     },
     "execution_count": 13,
     "metadata": {},
     "output_type": "execute_result"
    }
   ],
   "source": [
    "tags = [tag for tag in df['area_trab']]\n",
    "labelBinarizer = LabelBinarizer()\n",
    "labelBinarizer.fit(tags)"
   ]
  },
  {
   "cell_type": "code",
   "execution_count": 15,
   "metadata": {},
   "outputs": [
    {
     "name": "stdout",
     "output_type": "stream",
     "text": [
      "['Administración' 'Call Center' 'Comercio Exterior' 'Comunicación'\n",
      " 'Construcción' 'Diseño' 'Educación' 'Finanzas' 'Gastronomía' 'Gerencia'\n",
      " 'Ingeniería' 'Legales' 'Logística' 'Mercadotecnia' 'Minería' 'Oficios'\n",
      " 'Producción' 'Recursos Humanos' 'Salud' 'Secretaria' 'Seguros'\n",
      " 'Tecnología' 'Ventas']\n"
     ]
    }
   ],
   "source": [
    "print(labelBinarizer.classes_)"
   ]
  },
  {
   "cell_type": "code",
   "execution_count": null,
   "metadata": {},
   "outputs": [],
   "source": []
  }
 ],
 "metadata": {
  "kernelspec": {
   "display_name": "Python 3",
   "language": "python",
   "name": "python3"
  },
  "language_info": {
   "codemirror_mode": {
    "name": "ipython",
    "version": 3
   },
   "file_extension": ".py",
   "mimetype": "text/x-python",
   "name": "python",
   "nbconvert_exporter": "python",
   "pygments_lexer": "ipython3",
   "version": "3.5.2"
  }
 },
 "nbformat": 4,
 "nbformat_minor": 2
}
